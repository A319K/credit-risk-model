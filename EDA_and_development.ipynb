{
 "cells": [
  {
   "cell_type": "code",
   "id": "initial_id",
   "metadata": {
    "collapsed": true,
    "ExecuteTime": {
     "end_time": "2025-10-02T23:29:35.109226Z",
     "start_time": "2025-10-02T23:29:35.107077Z"
    }
   },
   "source": [
    "import pandas as pd\n",
    "import numpy as np\n",
    "import matplotlib.pyplot as plt\n",
    "import seaborn as sns"
   ],
   "outputs": [],
   "execution_count": 5
  },
  {
   "metadata": {
    "ExecuteTime": {
     "end_time": "2025-10-02T23:31:47.548423Z",
     "start_time": "2025-10-02T23:31:47.491084Z"
    }
   },
   "cell_type": "code",
   "source": [
    "#Set option to see all columns\n",
    "pd.set_option('display_max_columns', None)\n"
   ],
   "id": "b65d3073f73cc6fe",
   "outputs": [
    {
     "ename": "OptionError",
     "evalue": "No such keys(s): 'display_max_columns'",
     "output_type": "error",
     "traceback": [
      "\u001B[31m---------------------------------------------------------------------------\u001B[39m",
      "\u001B[31mOptionError\u001B[39m                               Traceback (most recent call last)",
      "\u001B[36mCell\u001B[39m\u001B[36m \u001B[39m\u001B[32mIn[7]\u001B[39m\u001B[32m, line 2\u001B[39m\n\u001B[32m      1\u001B[39m \u001B[38;5;66;03m#Set option to see all columns\u001B[39;00m\n\u001B[32m----> \u001B[39m\u001B[32m2\u001B[39m \u001B[43mpd\u001B[49m\u001B[43m.\u001B[49m\u001B[43mset_option\u001B[49m\u001B[43m(\u001B[49m\u001B[33;43m'\u001B[39;49m\u001B[33;43mdisplay_max_columns\u001B[39;49m\u001B[33;43m'\u001B[39;49m\u001B[43m,\u001B[49m\u001B[43m \u001B[49m\u001B[38;5;28;43;01mNone\u001B[39;49;00m\u001B[43m)\u001B[49m\n",
      "\u001B[36mFile \u001B[39m\u001B[32m~/Documents/Projects/CreditRiskModel/.venv/lib/python3.12/site-packages/pandas/_config/config.py:274\u001B[39m, in \u001B[36mCallableDynamicDoc.__call__\u001B[39m\u001B[34m(self, *args, **kwds)\u001B[39m\n\u001B[32m    273\u001B[39m \u001B[38;5;28;01mdef\u001B[39;00m\u001B[38;5;250m \u001B[39m\u001B[34m__call__\u001B[39m(\u001B[38;5;28mself\u001B[39m, *args, **kwds) -> T:\n\u001B[32m--> \u001B[39m\u001B[32m274\u001B[39m     \u001B[38;5;28;01mreturn\u001B[39;00m \u001B[38;5;28;43mself\u001B[39;49m\u001B[43m.\u001B[49m\u001B[34;43m__func__\u001B[39;49m\u001B[43m(\u001B[49m\u001B[43m*\u001B[49m\u001B[43margs\u001B[49m\u001B[43m,\u001B[49m\u001B[43m \u001B[49m\u001B[43m*\u001B[49m\u001B[43m*\u001B[49m\u001B[43mkwds\u001B[49m\u001B[43m)\u001B[49m\n",
      "\u001B[36mFile \u001B[39m\u001B[32m~/Documents/Projects/CreditRiskModel/.venv/lib/python3.12/site-packages/pandas/_config/config.py:167\u001B[39m, in \u001B[36m_set_option\u001B[39m\u001B[34m(*args, **kwargs)\u001B[39m\n\u001B[32m    164\u001B[39m     \u001B[38;5;28;01mraise\u001B[39;00m \u001B[38;5;167;01mTypeError\u001B[39;00m(\u001B[33mf\u001B[39m\u001B[33m'\u001B[39m\u001B[33m_set_option() got an unexpected keyword argument \u001B[39m\u001B[33m\"\u001B[39m\u001B[38;5;132;01m{\u001B[39;00mkwarg\u001B[38;5;132;01m}\u001B[39;00m\u001B[33m\"\u001B[39m\u001B[33m'\u001B[39m)\n\u001B[32m    166\u001B[39m \u001B[38;5;28;01mfor\u001B[39;00m k, v \u001B[38;5;129;01min\u001B[39;00m \u001B[38;5;28mzip\u001B[39m(args[::\u001B[32m2\u001B[39m], args[\u001B[32m1\u001B[39m::\u001B[32m2\u001B[39m]):\n\u001B[32m--> \u001B[39m\u001B[32m167\u001B[39m     key = \u001B[43m_get_single_key\u001B[49m\u001B[43m(\u001B[49m\u001B[43mk\u001B[49m\u001B[43m,\u001B[49m\u001B[43m \u001B[49m\u001B[43msilent\u001B[49m\u001B[43m)\u001B[49m\n\u001B[32m    169\u001B[39m     o = _get_registered_option(key)\n\u001B[32m    170\u001B[39m     \u001B[38;5;28;01mif\u001B[39;00m o \u001B[38;5;129;01mand\u001B[39;00m o.validator:\n",
      "\u001B[36mFile \u001B[39m\u001B[32m~/Documents/Projects/CreditRiskModel/.venv/lib/python3.12/site-packages/pandas/_config/config.py:132\u001B[39m, in \u001B[36m_get_single_key\u001B[39m\u001B[34m(pat, silent)\u001B[39m\n\u001B[32m    130\u001B[39m     \u001B[38;5;28;01mif\u001B[39;00m \u001B[38;5;129;01mnot\u001B[39;00m silent:\n\u001B[32m    131\u001B[39m         _warn_if_deprecated(pat)\n\u001B[32m--> \u001B[39m\u001B[32m132\u001B[39m     \u001B[38;5;28;01mraise\u001B[39;00m OptionError(\u001B[33mf\u001B[39m\u001B[33m\"\u001B[39m\u001B[33mNo such keys(s): \u001B[39m\u001B[38;5;132;01m{\u001B[39;00m\u001B[38;5;28mrepr\u001B[39m(pat)\u001B[38;5;132;01m}\u001B[39;00m\u001B[33m\"\u001B[39m)\n\u001B[32m    133\u001B[39m \u001B[38;5;28;01mif\u001B[39;00m \u001B[38;5;28mlen\u001B[39m(keys) > \u001B[32m1\u001B[39m:\n\u001B[32m    134\u001B[39m     \u001B[38;5;28;01mraise\u001B[39;00m OptionError(\u001B[33m\"\u001B[39m\u001B[33mPattern matched multiple keys\u001B[39m\u001B[33m\"\u001B[39m)\n",
      "\u001B[31mOptionError\u001B[39m: No such keys(s): 'display_max_columns'"
     ]
    }
   ],
   "execution_count": 7
  },
  {
   "metadata": {
    "ExecuteTime": {
     "end_time": "2025-10-02T23:32:08.133773Z",
     "start_time": "2025-10-02T23:31:48.599179Z"
    }
   },
   "cell_type": "code",
   "source": [
    "#Load data\n",
    "print(\"Loading data...\")\n",
    "data_path = 'ai_lending_club_loan_data/accepted_2007_to_2018Q4.csv.gz'\n",
    "df = pd.read_csv(data_path)\n",
    "print(\"Data loaded successfully\")"
   ],
   "id": "14aae5625b33744e",
   "outputs": [
    {
     "name": "stdout",
     "output_type": "stream",
     "text": [
      "Loading data...\n"
     ]
    },
    {
     "name": "stderr",
     "output_type": "stream",
     "text": [
      "/var/folders/n1/bmjsnf2966g83zq6vpf1f_xh0000gn/T/ipykernel_76951/2215923803.py:4: DtypeWarning: Columns (0,19,49,59,118,129,130,131,134,135,136,139,145,146,147) have mixed types. Specify dtype option on import or set low_memory=False.\n",
      "  df = pd.read_csv(data_path)\n"
     ]
    },
    {
     "name": "stdout",
     "output_type": "stream",
     "text": [
      "Data loaded successfully\n"
     ]
    }
   ],
   "execution_count": 8
  },
  {
   "metadata": {
    "ExecuteTime": {
     "end_time": "2025-10-02T23:33:39.660502Z",
     "start_time": "2025-10-02T23:33:39.653234Z"
    }
   },
   "cell_type": "code",
   "source": [
    "#Shape of data {rows, columns}\n",
    "print(f\"Dataset shape: {df.shape}\")\n",
    "\n",
    "#look at first few rows\n",
    "print(df.head())"
   ],
   "id": "4a505976409427fe",
   "outputs": [
    {
     "name": "stdout",
     "output_type": "stream",
     "text": [
      "Dataset shape: (2260701, 151)\n",
      "         id  member_id  loan_amnt  funded_amnt  funded_amnt_inv        term  \\\n",
      "0  68407277        NaN     3600.0       3600.0           3600.0   36 months   \n",
      "1  68355089        NaN    24700.0      24700.0          24700.0   36 months   \n",
      "2  68341763        NaN    20000.0      20000.0          20000.0   60 months   \n",
      "3  66310712        NaN    35000.0      35000.0          35000.0   60 months   \n",
      "4  68476807        NaN    10400.0      10400.0          10400.0   60 months   \n",
      "\n",
      "   int_rate  installment grade sub_grade  ... hardship_payoff_balance_amount  \\\n",
      "0     13.99       123.03     C        C4  ...                            NaN   \n",
      "1     11.99       820.28     C        C1  ...                            NaN   \n",
      "2     10.78       432.66     B        B4  ...                            NaN   \n",
      "3     14.85       829.90     C        C5  ...                            NaN   \n",
      "4     22.45       289.91     F        F1  ...                            NaN   \n",
      "\n",
      "  hardship_last_payment_amount disbursement_method  debt_settlement_flag  \\\n",
      "0                          NaN                Cash                     N   \n",
      "1                          NaN                Cash                     N   \n",
      "2                          NaN                Cash                     N   \n",
      "3                          NaN                Cash                     N   \n",
      "4                          NaN                Cash                     N   \n",
      "\n",
      "  debt_settlement_flag_date settlement_status settlement_date  \\\n",
      "0                       NaN               NaN             NaN   \n",
      "1                       NaN               NaN             NaN   \n",
      "2                       NaN               NaN             NaN   \n",
      "3                       NaN               NaN             NaN   \n",
      "4                       NaN               NaN             NaN   \n",
      "\n",
      "  settlement_amount settlement_percentage settlement_term  \n",
      "0               NaN                   NaN             NaN  \n",
      "1               NaN                   NaN             NaN  \n",
      "2               NaN                   NaN             NaN  \n",
      "3               NaN                   NaN             NaN  \n",
      "4               NaN                   NaN             NaN  \n",
      "\n",
      "[5 rows x 151 columns]\n"
     ]
    }
   ],
   "execution_count": 10
  },
  {
   "metadata": {
    "ExecuteTime": {
     "end_time": "2025-10-02T23:34:08.441316Z",
     "start_time": "2025-10-02T23:34:08.331164Z"
    }
   },
   "cell_type": "code",
   "source": [
    "#Find and see all unique values in 'loan_status' column and how many of each\n",
    "print(df['loan_status'].value_counts())"
   ],
   "id": "b24514f7b75f2ab0",
   "outputs": [
    {
     "name": "stdout",
     "output_type": "stream",
     "text": [
      "loan_status\n",
      "Fully Paid                                             1076751\n",
      "Current                                                 878317\n",
      "Charged Off                                             268559\n",
      "Late (31-120 days)                                       21467\n",
      "In Grace Period                                           8436\n",
      "Late (16-30 days)                                         4349\n",
      "Does not meet the credit policy. Status:Fully Paid        1988\n",
      "Does not meet the credit policy. Status:Charged Off        761\n",
      "Default                                                     40\n",
      "Name: count, dtype: int64\n"
     ]
    }
   ],
   "execution_count": 12
  },
  {
   "metadata": {
    "ExecuteTime": {
     "end_time": "2025-10-02T23:39:43.245977Z",
     "start_time": "2025-10-02T23:39:43.243506Z"
    }
   },
   "cell_type": "code",
   "source": [
    "#Define what is a \"good\" or \"bad\" loan\n",
    "good_loan_statuses = [\"Fully Paid\", \"Does not meet the credit policy. Status: Fully Paid\"]\n",
    "bad_loan_statuses = [\"Charged Off\", \"Default\", \"Does not meet credit policy. Status: Charged Off\"]\n"
   ],
   "id": "daae0d680d171628",
   "outputs": [],
   "execution_count": 25
  },
  {
   "metadata": {
    "ExecuteTime": {
     "end_time": "2025-10-02T23:39:46.677685Z",
     "start_time": "2025-10-02T23:39:44.591157Z"
    }
   },
   "cell_type": "code",
   "source": [
    "#Filter the df to only include loans with these statuses\n",
    "df_filtered = df[df['loan_status'].isin(good_loan_statuses + bad_loan_status)].copy()"
   ],
   "id": "e182372ce1095007",
   "outputs": [],
   "execution_count": 26
  },
  {
   "metadata": {
    "ExecuteTime": {
     "end_time": "2025-10-02T23:39:47.461078Z",
     "start_time": "2025-10-02T23:39:47.249429Z"
    }
   },
   "cell_type": "code",
   "source": [
    "#create our binary target column: 1 for bad, 0 for good\n",
    "df_filtered.loc[:, 'is_default'] = df_filtered['loan_status'].apply(lambda x: 1 if x in bad_loan_statuses else 0)"
   ],
   "id": "92154b1209403bd9",
   "outputs": [],
   "execution_count": 27
  },
  {
   "metadata": {
    "ExecuteTime": {
     "end_time": "2025-10-03T00:05:35.592704Z",
     "start_time": "2025-10-03T00:05:35.554344Z"
    }
   },
   "cell_type": "code",
   "source": [
    "# Verification\n",
    "print(f\"Shape of the  DataFrame before filtering: {df.shape}\")\n",
    "print(f\"Shape of the DataFrame after filtering: {df_filtered.shape}\")\n",
    "print(\"\\nNew target variable 'is_default' distribution:\")\n",
    "#Use normalize=True to see percentages\n",
    "print(df_filtered['is_default'].value_counts(normalize=True))"
   ],
   "id": "e905304c769e62a9",
   "outputs": [
    {
     "name": "stdout",
     "output_type": "stream",
     "text": [
      "Shape of the  DataFrame before filtering: (1345350, 151)\n",
      "Shape of the DataFrame after filtering: (1345350, 152)\n",
      "\n",
      "New target variable 'is_default' distribution:\n",
      "is_default\n",
      "0    0.80035\n",
      "1    0.19965\n",
      "Name: proportion, dtype: float64\n"
     ]
    }
   ],
   "execution_count": 29
  },
  {
   "metadata": {
    "ExecuteTime": {
     "end_time": "2025-10-03T00:06:37.480095Z",
     "start_time": "2025-10-03T00:06:35.154660Z"
    }
   },
   "cell_type": "code",
   "source": [
    "#Feature Cleaning & Elimination\n",
    "\n",
    "# Calculate the percentage of missing values for each column in our new dataframe\n",
    "missing_percentage = df_filtered.isnull().sum() / len(df_filtered) * 100\n",
    "\n",
    "# Get the columns that have more than 40% missing values\n",
    "columns_to_drop = missing_percentage[missing_percentage > 40].index\n",
    "\n",
    "print(f\"Found {len(columns_to_drop)} columns with more than 40% missing data.\")\n",
    "print(\"These columns will be dropped.\")\n",
    "# print(columns_to_drop.tolist())\n",
    "# Optional: uncomment to see the list of dropped columns\n",
    "\n",
    "# Drop these columns from our dataframe\n",
    "df_cleaned = df_filtered.drop(columns=columns_to_drop)\n",
    "\n",
    "print(f\"\\nShape of DataFrame before dropping missing columns: {df_filtered.shape}\")\n",
    "print(f\"Shape of DataFrame after dropping missing columns: {df_cleaned.shape}\")"
   ],
   "id": "14f32e08dd32147d",
   "outputs": [
    {
     "name": "stdout",
     "output_type": "stream",
     "text": [
      "Found 58 columns with more than 40% missing data.\n",
      "These columns will be dropped.\n",
      "\n",
      "Shape of DataFrame before dropping missing columns: (1345350, 152)\n",
      "Shape of DataFrame after dropping missing columns: (1345350, 94)\n"
     ]
    }
   ],
   "execution_count": 32
  },
  {
   "metadata": {
    "ExecuteTime": {
     "end_time": "2025-10-03T01:53:10.498419Z",
     "start_time": "2025-10-03T01:53:09.571555Z"
    }
   },
   "cell_type": "code",
   "source": [
    "# List of columns to manually remove\n",
    "manual_cols_to_drop = [\n",
    "    'id', 'member_id', 'url', 'desc', 'title', 'emp_title',\n",
    "    'zip_code', 'addr_state', # Often too granular or can introduce bias\n",
    "    'loan_status', # We already have 'is_default'\n",
    "    # Data leakage columns (info not available at time of application)\n",
    "    'total_pymnt', 'total_pymnt_inv', 'total_rec_prncp', 'total_rec_int',\n",
    "    'total_rec_late_fee', 'recoveries', 'collection_recovery_fee',\n",
    "    'last_pymnt_d', 'last_pymnt_amnt', 'last_credit_pull_d',\n",
    "    'out_prncp', 'out_prncp_inv'\n",
    "]\n",
    "\n",
    "# Make sure all columns in the list exist in the dataframe before trying to drop\n",
    "existing_cols_to_drop = [col for col in manual_cols_to_drop if col in df_cleaned.columns]\n",
    "\n",
    "df_model_ready = df_cleaned.drop(columns=existing_cols_to_drop)\n",
    "\n",
    "print(f\"\\nShape after dropping manual columns: {df_model_ready.shape}\")"
   ],
   "id": "94fe45949dc7554",
   "outputs": [
    {
     "name": "stdout",
     "output_type": "stream",
     "text": [
      "\n",
      "Shape after dropping manual columns: (1345350, 75)\n"
     ]
    }
   ],
   "execution_count": 35
  },
  {
   "metadata": {
    "ExecuteTime": {
     "end_time": "2025-10-03T01:57:34.283905Z",
     "start_time": "2025-10-03T01:57:28.329378Z"
    }
   },
   "cell_type": "code",
   "source": [
    "#Feature engineering and preprocessing\n",
    "\n",
    "#copy to make sure previous step was saved\n",
    "df_processed = df_model_ready.copy()\n",
    "\n",
    "#Step 1 - Correcting data types\n",
    "\n",
    "#Handle term column - Before: \" 36 months\" -> After: 36\n",
    "df_processed['term'] = df_processed['term'].str.extract('(\\\\d+)').astype(int)\n",
    "\n",
    "#handle the \"emp_length\" column. There's also \"10+ years\" and \"<1 year\"\n",
    "df_processed['emp)length'] = df_processed['emp_length'].str.replace(' years', '')\n",
    "df_processed['emp)length'] = df_processed['emp_length'].str.replace(' year', '')\n",
    "df_processed['emp)length'] = df_processed['emp_length'].str.replace('+ ', '')\n",
    "df_processed['emp)length'] = df_processed['emp_length'].str.replace('< 1', '0')\n",
    "\n",
    "#convert to numeric, filling any remaining missing values with 0 for new employees\n",
    "df_processed['emp_length'] = pd.to_numeric(df_processed['emp_length'], errors = 'coerce').fillna(0)\n",
    "\n",
    "#verify results\n",
    "print(\"Data types for 'term' and 'emp_length' after conversion:\")\n",
    "print(df_processed[['term', 'emp_length']].dtypes)"
   ],
   "id": "41521525dcb80bb3",
   "outputs": [
    {
     "name": "stdout",
     "output_type": "stream",
     "text": [
      "Data types for 'term' and 'emp_length' after conversion:\n",
      "term            int64\n",
      "emp_length    float64\n",
      "dtype: object\n"
     ]
    }
   ],
   "execution_count": 36
  },
  {
   "metadata": {
    "ExecuteTime": {
     "end_time": "2025-10-03T02:03:52.757604Z",
     "start_time": "2025-10-03T02:03:52.210968Z"
    }
   },
   "cell_type": "code",
   "source": [
    "#Convert date columns to datetime objects\n",
    "df_processed['issue_d'] = pd.to_datetime(df_processed['issue_d'])\n",
    "df_processed['earliest_cr_line'] = pd.to_datetime(df_processed['earliest_cr_line'])\n",
    "\n",
    "#Make a new feature - credit history length in days\n",
    "df_processed['credit_history_length'] = (df_processed['issue_d'] - df_processed['earliest_cr_line']).dt.days\n",
    "\n",
    "#drop original date columns\n",
    "df_processed = df_processed.drop(columns = ['issue_d', 'earliest_cr_line'])\n",
    "\n",
    "#verify results\n",
    "print(\"\\nFirst 5 values for our new 'credi_history_length', feature:\")\n",
    "print(df_processed['credit_history_length'].head())"
   ],
   "id": "a4810155d0aca9ef",
   "outputs": [
    {
     "name": "stdout",
     "output_type": "stream",
     "text": [
      "\n",
      "First 5 values for our new 'credi_history_length', feature:\n",
      "0     4505\n",
      "1     5844\n",
      "2     5600\n",
      "4     6392\n",
      "5    10288\n",
      "Name: credit_history_length, dtype: int64\n"
     ]
    }
   ],
   "execution_count": 38
  },
  {
   "metadata": {
    "ExecuteTime": {
     "end_time": "2025-10-03T02:22:42.421030Z",
     "start_time": "2025-10-03T02:22:39.973661Z"
    }
   },
   "cell_type": "code",
   "source": [
    "#Handle the categorical features\n",
    "\n",
    "#find all columns that are still 'object' type\n",
    "categorical_cols = df_processed.select_dtypes(include = 'object').columns\n",
    "\n",
    "print(f\"\\nFound {len(categorical_cols)} categorical columns to encode.\")\n",
    "\n",
    "#one-hot encoding\n",
    "df_processed = pd.get_dummies(df_processed, columns = categorical_cols, drop_first = True)\n",
    "\n",
    "print(f\"\\nShape of DF after one-hot encoding: {df_processed.shape}\")\n",
    "print(\"The number of columns increased as expected.\")"
   ],
   "id": "e388c082b18aeafe",
   "outputs": [
    {
     "name": "stdout",
     "output_type": "stream",
     "text": [
      "\n",
      "Found 12 categorical columns to encode.\n",
      "\n",
      "Shape of DF after one-hot encoding: (1345350, 137)\n",
      "The number of columns increased as expected.\n"
     ]
    }
   ],
   "execution_count": 39
  },
  {
   "metadata": {
    "ExecuteTime": {
     "end_time": "2025-10-03T02:29:25.954603Z",
     "start_time": "2025-10-03T02:29:23.610370Z"
    }
   },
   "cell_type": "code",
   "source": [
    "#Final data prep\n",
    "\n",
    "#impute remaining missing values with the median\n",
    "print(f\"Number of missing values before imputation: {df_processed.isnull().sum().sum()}\")\n",
    "df_final = df_processed.fillna(df_processed.median())\n",
    "print(f\"Number of missing values after imputation: {df_final.isnull().sum().sum()}\")"
   ],
   "id": "fc37c32a1cb38002",
   "outputs": [
    {
     "name": "stdout",
     "output_type": "stream",
     "text": [
      "Number of missing values before imputation: 2363023\n",
      "Number of missing values after imputation: 0\n"
     ]
    }
   ],
   "execution_count": 41
  },
  {
   "metadata": {
    "ExecuteTime": {
     "end_time": "2025-10-03T02:30:44.818028Z",
     "start_time": "2025-10-03T02:30:44.100854Z"
    }
   },
   "cell_type": "code",
   "source": [
    "#Separates features and targets\n",
    "x = df_final.drop('is_default', axis = 1)\n",
    "y = df_final['is_default']\n",
    "\n",
    "print(\"\\nShape of features (x):\", x.shape)\n",
    "print(\"Shape of target (y):\", y.shape)"
   ],
   "id": "5a4c0b0d196ac636",
   "outputs": [
    {
     "name": "stdout",
     "output_type": "stream",
     "text": [
      "\n",
      "Shape of features (x): (1345350, 136)\n",
      "Shape of target (y): (1345350,)\n"
     ]
    }
   ],
   "execution_count": 43
  },
  {
   "metadata": {
    "ExecuteTime": {
     "end_time": "2025-10-03T02:31:39.965897Z",
     "start_time": "2025-10-03T02:31:39.247160Z"
    }
   },
   "cell_type": "code",
   "source": "from sklearn.model_selection import train_test_split",
   "id": "eea14f108031bf33",
   "outputs": [],
   "execution_count": 44
  },
  {
   "metadata": {
    "ExecuteTime": {
     "end_time": "2025-10-03T02:32:58.832714Z",
     "start_time": "2025-10-03T02:32:57.430377Z"
    }
   },
   "cell_type": "code",
   "source": [
    "#split the data: 80% for training and 20% for testing\n",
    "x_train, x_test, y_train, y_test = train_test_split(x, y, test_size = 0.2, random_state = 42, stratify = y)\n",
    "#stratify = y ensures that 20% default rate is preserved in both training and testing sets, so the split representative is of the whole dataset\n",
    "\n",
    "print(\"\\nShape of training features:\", x_train.shape)\n",
    "print(\"Shape of testing features:\", x_test.shape)"
   ],
   "id": "cc8a5ee963f2f763",
   "outputs": [
    {
     "name": "stdout",
     "output_type": "stream",
     "text": [
      "\n",
      "Shape of training features: (1076280, 136)\n",
      "Shape of testing features: (269070, 136)\n"
     ]
    }
   ],
   "execution_count": 47
  },
  {
   "metadata": {
    "ExecuteTime": {
     "end_time": "2025-10-03T02:35:33.166361Z",
     "start_time": "2025-10-03T02:35:32.253798Z"
    }
   },
   "cell_type": "code",
   "source": [
    "#SMOTE - Synthetic Minority Over-sampling Technique (only applies to training data)\n",
    "from imblearn.over_sampling import SMOTE\n"
   ],
   "id": "829dbcf7dff34180",
   "outputs": [],
   "execution_count": 48
  },
  {
   "metadata": {
    "ExecuteTime": {
     "end_time": "2025-10-03T02:38:12.485105Z",
     "start_time": "2025-10-03T02:37:38.621811Z"
    }
   },
   "cell_type": "code",
   "source": [
    "print(\"\\nDistribution of target in original training data:\")\n",
    "print(y_train.value_counts(normalize=True))\n",
    "\n",
    "#initialize smote\n",
    "smote = SMOTE(random_state = 42)\n",
    "\n",
    "#apply SMOTE to training data\n",
    "x_train_resampled, y_train_resampled = smote.fit_resample(x_train, y_train)\n",
    "\n",
    "print(\"\\nDistribution of target in resampled training data:\")\n",
    "print(y_train_resampled.value_counts(normalize=True))\n",
    "print(\"\\nShape of resampled training features:\", x_train_resampled.shape)"
   ],
   "id": "be3c70b064fa3053",
   "outputs": [
    {
     "name": "stdout",
     "output_type": "stream",
     "text": [
      "\n",
      "Distribution of target in original training data:\n",
      "is_default\n",
      "0    0.80035\n",
      "1    0.19965\n",
      "Name: proportion, dtype: float64\n",
      "\n",
      "Distribution of target in resampled training data:\n",
      "is_default\n",
      "0    0.5\n",
      "1    0.5\n",
      "Name: proportion, dtype: float64\n",
      "\n",
      "Shape of resampled training features: (1722802, 136)\n"
     ]
    }
   ],
   "execution_count": 49
  },
  {
   "metadata": {
    "ExecuteTime": {
     "end_time": "2025-10-03T02:50:12.796805Z",
     "start_time": "2025-10-03T02:50:04.138366Z"
    }
   },
   "cell_type": "code",
   "source": [
    "import xgboost as xgb\n",
    "from sklearn.metrics import accuracy_score, classification_report\n",
    "\n",
    "#train and evaluate the XGBoost model\n",
    "print(\"Training the XGBoost model... this may take a few minutes.\")\n",
    "\n",
    "#initialize and train the xgboost classifier\n",
    "#use common starting parameters. 'eval_metric' helps the model improve\n",
    "model = xgb.XGBClassifier(objective = 'binary:logistic',\n",
    "                          eval_metric = 'logloss',\n",
    "                          use_label_encoder = False,\n",
    "                          random_state = 42)\n",
    "model.fit(x_train_resampled, y_train_resampled)\n",
    "\n",
    "print(\"Model training complete\")\n",
    "\n",
    "#make predictions on the unseen test data\n",
    "print(\"\\nMaking predictions on the test set...\")\n",
    "y_pred = model.predict(x_test)\n",
    "\n",
    "#Evaluate model's performance\n",
    "accuracy = accuracy_score(y_test, y_pred)\n",
    "print(f\"\\nModel accuracy: {accuracy:.4f}\")\n",
    "\n",
    "print(\"\\nClassification Report:\")\n",
    "print(classification_report(y_test, y_pred, target_names =  ['Good Loan (0)', 'Default (1)']))"
   ],
   "id": "11e484d126631227",
   "outputs": [
    {
     "name": "stdout",
     "output_type": "stream",
     "text": [
      "Training the XGBoost model... this may take a few minutes.\n"
     ]
    },
    {
     "name": "stderr",
     "output_type": "stream",
     "text": [
      "/Users/aidenkim/Documents/Projects/CreditRiskModel/.venv/lib/python3.12/site-packages/xgboost/training.py:183: UserWarning: [22:50:07] WARNING: /Users/runner/work/xgboost/xgboost/src/learner.cc:738: \n",
      "Parameters: { \"use_label_encoder\" } are not used.\n",
      "\n",
      "  bst.update(dtrain, iteration=i, fobj=obj)\n"
     ]
    },
    {
     "name": "stdout",
     "output_type": "stream",
     "text": [
      "Model training complete\n",
      "\n",
      "Making predictions on the test set...\n",
      "\n",
      "Model accuracy: 0.9181\n",
      "\n",
      "Classification Report:\n",
      "               precision    recall  f1-score   support\n",
      "\n",
      "Good Loan (0)       0.95      0.95      0.95    215350\n",
      "  Default (1)       0.80      0.79      0.79     53720\n",
      "\n",
      "     accuracy                           0.92    269070\n",
      "    macro avg       0.87      0.87      0.87    269070\n",
      " weighted avg       0.92      0.92      0.92    269070\n",
      "\n"
     ]
    }
   ],
   "execution_count": 51
  },
  {
   "metadata": {
    "ExecuteTime": {
     "end_time": "2025-10-04T02:48:19.585415Z",
     "start_time": "2025-10-04T02:47:40.810340Z"
    }
   },
   "cell_type": "code",
   "source": [
    "import shap\n",
    "\n",
    "#shap can explain the model predictions\n",
    "\n",
    "print(\"\\nCalculating SHAP values... this can take a moment\")\n",
    "\n",
    "#create shap explainer object\n",
    "explainer = shap.TreeExplainer(model)\n",
    "\n",
    "#calculate SHAP values for test set\n",
    "shap_values = explainer.shap_values(x_test)\n",
    "\n",
    "#create the summary plot\n",
    "shap.summary_plot(shap_values, x_test, show=False)\n",
    "plt.title(\"SHAP Summary Plot for Credit Risk Model\")\n",
    "plt.show()\n"
   ],
   "id": "1e9ca1d5153db44e",
   "outputs": [
    {
     "name": "stdout",
     "output_type": "stream",
     "text": [
      "\n",
      "Calculating SHAP values... this can take a moment\n"
     ]
    },
    {
     "data": {
      "text/plain": [
       "<Figure size 800x950 with 2 Axes>"
      ],
      "image/png": "[encoded data removed]"
     },
     "metadata": {},
     "output_type": "display_data"
    }
   ],
   "execution_count": 53
  },
  {
   "metadata": {},
   "cell_type": "code",
   "outputs": [],
   "execution_count": null,
   "source": "",
   "id": "ef5868b1e41030cd"
  }
 ],
 "metadata": {
  "kernelspec": {
   "display_name": "Python 3",
   "language": "python",
   "name": "python3"
  },
  "language_info": {
   "codemirror_mode": {
    "name": "ipython",
    "version": 2
   },
   "file_extension": ".py",
   "mimetype": "text/x-python",
   "name": "python",
   "nbconvert_exporter": "python",
   "pygments_lexer": "ipython2",
   "version": "2.7.6"
  }
 },
 "nbformat": 4,
 "nbformat_minor": 5
}
